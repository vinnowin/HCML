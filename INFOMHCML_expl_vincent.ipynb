{
 "cells": [
  {
   "cell_type": "markdown",
   "metadata": {
    "id": "OMSxpJAkqYzk"
   },
   "source": [
    "# Programming Assignment II: Explainability\n",
    "\n",
    "In this assignment you will train machine learning models and experiment with techniques discussed in the lectures.\n",
    "This assignment makes use of existing Python libraries for some questions. We have provided links to tutorials/examples if you're not familiar with them yet.\n",
    "\n",
    "All code that you implement should be in this notebook. You should submit:\n",
    "* This notebook with your code added. Make sure to add enough documentation. Also provide complete answers to the more theoretical questions in this notebook. These questions are followed by an 'answer indent':\n",
    "> Answer:\n",
    "\n",
    "The notebook .ipynb should have the name format `Prog_Explainability_Group_X.ipynb`, where X is your programming group ID.\n",
    "\n",
    "Important notes:\n",
    "* Deadline for this assignment is **Monday, June 3, 17:00**.\n",
    "* Send it to both Mart Koek (m.j.koek@uu.nl) and Heysem Kaya (h.kaya@uu.nl), CCing your programming partner.\n",
    "* Title of the email: [INFOMHCML] Explainability programming assignment submission X, with X the number of your group.\n",
    "* There will be a lab session to assist you with the assignment on **Thursday, May 30, between 13:15-15:00 at DALTON 500 - 6.27 and DALTON 500 - 7.27**."
   ]
  },
  {
   "cell_type": "markdown",
   "metadata": {
    "id": "moyaViIx8WzS"
   },
   "source": [
    "### Installation\n",
    "\n",
    "For this assignment, we are going to use the following Python packages:\n",
    "graphviz, matplotlib, pandas, statsmodels, openpyxl, interpret, and scikit-learn."
   ]
  },
  {
   "cell_type": "code",
   "execution_count": 1,
   "metadata": {
    "id": "6EaC6P7RqXOh"
   },
   "outputs": [
    {
     "name": "stdout",
     "output_type": "stream",
     "text": [
      "Collecting graphviz\n",
      "  Obtaining dependency information for graphviz from https://files.pythonhosted.org/packages/00/be/d59db2d1d52697c6adc9eacaf50e8965b6345cc143f671e1ed068818d5cf/graphviz-0.20.3-py3-none-any.whl.metadata\n",
      "  Downloading graphviz-0.20.3-py3-none-any.whl.metadata (12 kB)\n",
      "Downloading graphviz-0.20.3-py3-none-any.whl (47 kB)\n",
      "   ---------------------------------------- 0.0/47.1 kB ? eta -:--:--\n",
      "   ---------------------------------------- 47.1/47.1 kB ? eta 0:00:00\n",
      "Installing collected packages: graphviz\n",
      "Successfully installed graphviz-0.20.3\n",
      "Requirement already satisfied: matplotlib in c:\\users\\gebruiker\\anaconda3\\lib\\site-packages (3.7.1)\n",
      "Requirement already satisfied: pandas in c:\\users\\gebruiker\\anaconda3\\lib\\site-packages (1.5.3)\n",
      "Requirement already satisfied: statsmodels in c:\\users\\gebruiker\\anaconda3\\lib\\site-packages (0.14.0)\n",
      "Requirement already satisfied: openpyxl in c:\\users\\gebruiker\\anaconda3\\lib\\site-packages (3.0.10)\n",
      "Requirement already satisfied: contourpy>=1.0.1 in c:\\users\\gebruiker\\anaconda3\\lib\\site-packages (from matplotlib) (1.0.5)\n",
      "Requirement already satisfied: cycler>=0.10 in c:\\users\\gebruiker\\anaconda3\\lib\\site-packages (from matplotlib) (0.11.0)\n",
      "Requirement already satisfied: fonttools>=4.22.0 in c:\\users\\gebruiker\\anaconda3\\lib\\site-packages (from matplotlib) (4.25.0)\n",
      "Requirement already satisfied: kiwisolver>=1.0.1 in c:\\users\\gebruiker\\anaconda3\\lib\\site-packages (from matplotlib) (1.4.4)\n",
      "Requirement already satisfied: numpy>=1.20 in c:\\users\\gebruiker\\anaconda3\\lib\\site-packages (from matplotlib) (1.24.3)\n",
      "Requirement already satisfied: packaging>=20.0 in c:\\users\\gebruiker\\anaconda3\\lib\\site-packages (from matplotlib) (23.0)\n",
      "Requirement already satisfied: pillow>=6.2.0 in c:\\users\\gebruiker\\anaconda3\\lib\\site-packages (from matplotlib) (9.4.0)\n",
      "Requirement already satisfied: pyparsing>=2.3.1 in c:\\users\\gebruiker\\anaconda3\\lib\\site-packages (from matplotlib) (3.0.9)\n",
      "Requirement already satisfied: python-dateutil>=2.7 in c:\\users\\gebruiker\\anaconda3\\lib\\site-packages (from matplotlib) (2.8.2)\n",
      "Requirement already satisfied: pytz>=2020.1 in c:\\users\\gebruiker\\anaconda3\\lib\\site-packages (from pandas) (2022.7)\n",
      "Requirement already satisfied: scipy!=1.9.2,>=1.4 in c:\\users\\gebruiker\\anaconda3\\lib\\site-packages (from statsmodels) (1.10.1)\n",
      "Requirement already satisfied: patsy>=0.5.2 in c:\\users\\gebruiker\\anaconda3\\lib\\site-packages (from statsmodels) (0.5.3)\n",
      "Requirement already satisfied: et_xmlfile in c:\\users\\gebruiker\\anaconda3\\lib\\site-packages (from openpyxl) (1.1.0)\n",
      "Requirement already satisfied: six in c:\\users\\gebruiker\\anaconda3\\lib\\site-packages (from patsy>=0.5.2->statsmodels) (1.16.0)\n",
      "Collecting interpret\n",
      "  Obtaining dependency information for interpret from https://files.pythonhosted.org/packages/1a/d4/11fb1cf70dd47ec6c549be1c3ccdf67c9b76d8f1ec004e7c0a08a0a4b20a/interpret-0.6.1-py3-none-any.whl.metadata\n",
      "  Downloading interpret-0.6.1-py3-none-any.whl.metadata (1.1 kB)\n",
      "Collecting interpret-core[dash,debug,linear,notebook,plotly,sensitivity,shap]==0.6.1 (from interpret)\n",
      "  Obtaining dependency information for interpret-core[dash,debug,linear,notebook,plotly,sensitivity,shap]==0.6.1 from https://files.pythonhosted.org/packages/0a/19/8900e86c7a80a42215263b1ad50faa6164563a3e4e214b17bc17e5321475/interpret_core-0.6.1-py3-none-any.whl.metadata\n",
      "  Downloading interpret_core-0.6.1-py3-none-any.whl.metadata (2.8 kB)\n",
      "Requirement already satisfied: numpy>=1.11.1 in c:\\users\\gebruiker\\anaconda3\\lib\\site-packages (from interpret-core[dash,debug,linear,notebook,plotly,sensitivity,shap]==0.6.1->interpret) (1.24.3)\n",
      "Requirement already satisfied: scipy>=0.18.1 in c:\\users\\gebruiker\\anaconda3\\lib\\site-packages (from interpret-core[dash,debug,linear,notebook,plotly,sensitivity,shap]==0.6.1->interpret) (1.10.1)\n",
      "Requirement already satisfied: pandas>=0.19.2 in c:\\users\\gebruiker\\anaconda3\\lib\\site-packages (from interpret-core[dash,debug,linear,notebook,plotly,sensitivity,shap]==0.6.1->interpret) (1.5.3)\n",
      "Requirement already satisfied: scikit-learn>=0.18.1 in c:\\users\\gebruiker\\anaconda3\\lib\\site-packages (from interpret-core[dash,debug,linear,notebook,plotly,sensitivity,shap]==0.6.1->interpret) (1.3.0)\n",
      "Requirement already satisfied: joblib>=0.11 in c:\\users\\gebruiker\\anaconda3\\lib\\site-packages (from interpret-core[dash,debug,linear,notebook,plotly,sensitivity,shap]==0.6.1->interpret) (1.2.0)\n",
      "Collecting dash>=1.0.0 (from interpret-core[dash,debug,linear,notebook,plotly,sensitivity,shap]==0.6.1->interpret)\n",
      "  Obtaining dependency information for dash>=1.0.0 from https://files.pythonhosted.org/packages/63/22/bc266b167111e70a2da940e78b78d22fea5b1ee32b512ed0789bd6cc2a9f/dash-2.17.0-py3-none-any.whl.metadata\n",
      "  Downloading dash-2.17.0-py3-none-any.whl.metadata (10 kB)\n",
      "Collecting dash-core-components>=1.0.0 (from interpret-core[dash,debug,linear,notebook,plotly,sensitivity,shap]==0.6.1->interpret)\n",
      "  Obtaining dependency information for dash-core-components>=1.0.0 from https://files.pythonhosted.org/packages/00/9e/a29f726e84e531a36d56cff187e61d8c96d2cc253c5bcef9a7695acb7e6a/dash_core_components-2.0.0-py3-none-any.whl.metadata\n",
      "  Downloading dash_core_components-2.0.0-py3-none-any.whl.metadata (2.9 kB)\n",
      "Collecting dash-html-components>=1.0.0 (from interpret-core[dash,debug,linear,notebook,plotly,sensitivity,shap]==0.6.1->interpret)\n",
      "  Obtaining dependency information for dash-html-components>=1.0.0 from https://files.pythonhosted.org/packages/75/65/1b16b853844ef59b2742a7de74a598f376ac0ab581f0dcc34db294e5c90e/dash_html_components-2.0.0-py3-none-any.whl.metadata\n",
      "  Downloading dash_html_components-2.0.0-py3-none-any.whl.metadata (3.8 kB)\n",
      "Collecting dash-table>=4.1.0 (from interpret-core[dash,debug,linear,notebook,plotly,sensitivity,shap]==0.6.1->interpret)\n",
      "  Obtaining dependency information for dash-table>=4.1.0 from https://files.pythonhosted.org/packages/da/ce/43f77dc8e7bbad02a9f88d07bf794eaf68359df756a28bb9f2f78e255bb1/dash_table-5.0.0-py3-none-any.whl.metadata\n",
      "  Downloading dash_table-5.0.0-py3-none-any.whl.metadata (2.4 kB)\n",
      "Collecting dash-cytoscape>=0.1.1 (from interpret-core[dash,debug,linear,notebook,plotly,sensitivity,shap]==0.6.1->interpret)\n",
      "  Obtaining dependency information for dash-cytoscape>=0.1.1 from https://files.pythonhosted.org/packages/20/b3/f65ebbe40bc105d89ed0c828bae8e782839a5562d4aa8ee55b41b02cd7f2/dash_cytoscape-1.0.0-py3-none-any.whl.metadata\n",
      "  Downloading dash_cytoscape-1.0.0-py3-none-any.whl.metadata (8.1 kB)\n",
      "Collecting gevent>=1.3.6 (from interpret-core[dash,debug,linear,notebook,plotly,sensitivity,shap]==0.6.1->interpret)\n",
      "  Obtaining dependency information for gevent>=1.3.6 from https://files.pythonhosted.org/packages/18/b1/bbaf6047b13c4b83cd81007298f4f8ddffd8674c130736423e79e7bb8b6a/gevent-24.2.1-cp311-cp311-win_amd64.whl.metadata\n",
      "  Downloading gevent-24.2.1-cp311-cp311-win_amd64.whl.metadata (13 kB)\n",
      "Requirement already satisfied: requests>=2.19.0 in c:\\users\\gebruiker\\anaconda3\\lib\\site-packages (from interpret-core[dash,debug,linear,notebook,plotly,sensitivity,shap]==0.6.1->interpret) (2.31.0)\n",
      "Requirement already satisfied: psutil>=5.6.2 in c:\\users\\gebruiker\\anaconda3\\lib\\site-packages (from interpret-core[dash,debug,linear,notebook,plotly,sensitivity,shap]==0.6.1->interpret) (5.9.0)\n",
      "Requirement already satisfied: ipykernel>=4.10.0 in c:\\users\\gebruiker\\anaconda3\\lib\\site-packages (from interpret-core[dash,debug,linear,notebook,plotly,sensitivity,shap]==0.6.1->interpret) (6.19.2)\n",
      "Requirement already satisfied: ipython>=5.5.0 in c:\\users\\gebruiker\\anaconda3\\lib\\site-packages (from interpret-core[dash,debug,linear,notebook,plotly,sensitivity,shap]==0.6.1->interpret) (8.12.0)\n",
      "Requirement already satisfied: plotly>=3.8.1 in c:\\users\\gebruiker\\anaconda3\\lib\\site-packages (from interpret-core[dash,debug,linear,notebook,plotly,sensitivity,shap]==0.6.1->interpret) (5.9.0)\n",
      "Collecting SALib>=1.3.3 (from interpret-core[dash,debug,linear,notebook,plotly,sensitivity,shap]==0.6.1->interpret)\n",
      "  Obtaining dependency information for SALib>=1.3.3 from https://files.pythonhosted.org/packages/cb/a5/994280396ef1a900de22f51378475cc195729c7e82d6794a4e299db21d4c/salib-1.5.0-py3-none-any.whl.metadata\n",
      "  Downloading salib-1.5.0-py3-none-any.whl.metadata (11 kB)\n",
      "Collecting shap>=0.28.5 (from interpret-core[dash,debug,linear,notebook,plotly,sensitivity,shap]==0.6.1->interpret)\n",
      "  Obtaining dependency information for shap>=0.28.5 from https://files.pythonhosted.org/packages/40/6c/850cdf7d0c6351ee9d060c0a24237381ae212c125553afa61198eaa06b0b/shap-0.45.1-cp311-cp311-win_amd64.whl.metadata\n",
      "  Downloading shap-0.45.1-cp311-cp311-win_amd64.whl.metadata (25 kB)\n",
      "Requirement already satisfied: dill>=0.2.5 in c:\\users\\gebruiker\\anaconda3\\lib\\site-packages (from interpret-core[dash,debug,linear,notebook,plotly,sensitivity,shap]==0.6.1->interpret) (0.3.6)\n",
      "Requirement already satisfied: Flask<3.1,>=1.0.4 in c:\\users\\gebruiker\\anaconda3\\lib\\site-packages (from dash>=1.0.0->interpret-core[dash,debug,linear,notebook,plotly,sensitivity,shap]==0.6.1->interpret) (2.2.2)\n",
      "Requirement already satisfied: Werkzeug<3.1 in c:\\users\\gebruiker\\anaconda3\\lib\\site-packages (from dash>=1.0.0->interpret-core[dash,debug,linear,notebook,plotly,sensitivity,shap]==0.6.1->interpret) (2.2.3)\n",
      "Requirement already satisfied: importlib-metadata in c:\\users\\gebruiker\\anaconda3\\lib\\site-packages (from dash>=1.0.0->interpret-core[dash,debug,linear,notebook,plotly,sensitivity,shap]==0.6.1->interpret) (6.0.0)\n",
      "Requirement already satisfied: typing-extensions>=4.1.1 in c:\\users\\gebruiker\\anaconda3\\lib\\site-packages (from dash>=1.0.0->interpret-core[dash,debug,linear,notebook,plotly,sensitivity,shap]==0.6.1->interpret) (4.7.1)\n",
      "Collecting retrying (from dash>=1.0.0->interpret-core[dash,debug,linear,notebook,plotly,sensitivity,shap]==0.6.1->interpret)\n",
      "  Obtaining dependency information for retrying from https://files.pythonhosted.org/packages/8f/04/9e36f28be4c0532c0e9207ff9dc01fb13a2b0eb036476a213b0000837d0e/retrying-1.3.4-py3-none-any.whl.metadata\n",
      "  Downloading retrying-1.3.4-py3-none-any.whl.metadata (6.9 kB)\n",
      "Requirement already satisfied: nest-asyncio in c:\\users\\gebruiker\\anaconda3\\lib\\site-packages (from dash>=1.0.0->interpret-core[dash,debug,linear,notebook,plotly,sensitivity,shap]==0.6.1->interpret) (1.5.6)\n",
      "Requirement already satisfied: setuptools in c:\\users\\gebruiker\\anaconda3\\lib\\site-packages (from dash>=1.0.0->interpret-core[dash,debug,linear,notebook,plotly,sensitivity,shap]==0.6.1->interpret) (68.0.0)\n",
      "Collecting zope.event (from gevent>=1.3.6->interpret-core[dash,debug,linear,notebook,plotly,sensitivity,shap]==0.6.1->interpret)\n",
      "  Obtaining dependency information for zope.event from https://files.pythonhosted.org/packages/fe/42/f8dbc2b9ad59e927940325a22d6d3931d630c3644dae7e2369ef5d9ba230/zope.event-5.0-py3-none-any.whl.metadata\n",
      "  Downloading zope.event-5.0-py3-none-any.whl.metadata (4.4 kB)\n",
      "Requirement already satisfied: zope.interface in c:\\users\\gebruiker\\anaconda3\\lib\\site-packages (from gevent>=1.3.6->interpret-core[dash,debug,linear,notebook,plotly,sensitivity,shap]==0.6.1->interpret) (5.4.0)\n",
      "Collecting greenlet>=3.0rc3 (from gevent>=1.3.6->interpret-core[dash,debug,linear,notebook,plotly,sensitivity,shap]==0.6.1->interpret)\n",
      "  Obtaining dependency information for greenlet>=3.0rc3 from https://files.pythonhosted.org/packages/47/79/26d54d7d700ef65b689fc2665a40846d13e834da0486674a8d4f0f371a47/greenlet-3.0.3-cp311-cp311-win_amd64.whl.metadata\n",
      "  Downloading greenlet-3.0.3-cp311-cp311-win_amd64.whl.metadata (3.9 kB)\n",
      "Requirement already satisfied: cffi>=1.12.2 in c:\\users\\gebruiker\\anaconda3\\lib\\site-packages (from gevent>=1.3.6->interpret-core[dash,debug,linear,notebook,plotly,sensitivity,shap]==0.6.1->interpret) (1.15.1)\n",
      "Requirement already satisfied: comm>=0.1.1 in c:\\users\\gebruiker\\anaconda3\\lib\\site-packages (from ipykernel>=4.10.0->interpret-core[dash,debug,linear,notebook,plotly,sensitivity,shap]==0.6.1->interpret) (0.1.2)\n",
      "Requirement already satisfied: debugpy>=1.0 in c:\\users\\gebruiker\\anaconda3\\lib\\site-packages (from ipykernel>=4.10.0->interpret-core[dash,debug,linear,notebook,plotly,sensitivity,shap]==0.6.1->interpret) (1.6.7)\n",
      "Requirement already satisfied: jupyter-client>=6.1.12 in c:\\users\\gebruiker\\anaconda3\\lib\\site-packages (from ipykernel>=4.10.0->interpret-core[dash,debug,linear,notebook,plotly,sensitivity,shap]==0.6.1->interpret) (7.4.9)\n",
      "Requirement already satisfied: matplotlib-inline>=0.1 in c:\\users\\gebruiker\\anaconda3\\lib\\site-packages (from ipykernel>=4.10.0->interpret-core[dash,debug,linear,notebook,plotly,sensitivity,shap]==0.6.1->interpret) (0.1.6)\n",
      "Requirement already satisfied: packaging in c:\\users\\gebruiker\\anaconda3\\lib\\site-packages (from ipykernel>=4.10.0->interpret-core[dash,debug,linear,notebook,plotly,sensitivity,shap]==0.6.1->interpret) (23.0)\n",
      "Requirement already satisfied: pyzmq>=17 in c:\\users\\gebruiker\\anaconda3\\lib\\site-packages (from ipykernel>=4.10.0->interpret-core[dash,debug,linear,notebook,plotly,sensitivity,shap]==0.6.1->interpret) (23.2.0)\n",
      "Requirement already satisfied: tornado>=6.1 in c:\\users\\gebruiker\\anaconda3\\lib\\site-packages (from ipykernel>=4.10.0->interpret-core[dash,debug,linear,notebook,plotly,sensitivity,shap]==0.6.1->interpret) (6.3.2)\n",
      "Requirement already satisfied: traitlets>=5.4.0 in c:\\users\\gebruiker\\anaconda3\\lib\\site-packages (from ipykernel>=4.10.0->interpret-core[dash,debug,linear,notebook,plotly,sensitivity,shap]==0.6.1->interpret) (5.7.1)\n",
      "Requirement already satisfied: backcall in c:\\users\\gebruiker\\anaconda3\\lib\\site-packages (from ipython>=5.5.0->interpret-core[dash,debug,linear,notebook,plotly,sensitivity,shap]==0.6.1->interpret) (0.2.0)\n",
      "Requirement already satisfied: decorator in c:\\users\\gebruiker\\anaconda3\\lib\\site-packages (from ipython>=5.5.0->interpret-core[dash,debug,linear,notebook,plotly,sensitivity,shap]==0.6.1->interpret) (5.1.1)\n",
      "Requirement already satisfied: jedi>=0.16 in c:\\users\\gebruiker\\anaconda3\\lib\\site-packages (from ipython>=5.5.0->interpret-core[dash,debug,linear,notebook,plotly,sensitivity,shap]==0.6.1->interpret) (0.18.1)\n",
      "Requirement already satisfied: pickleshare in c:\\users\\gebruiker\\anaconda3\\lib\\site-packages (from ipython>=5.5.0->interpret-core[dash,debug,linear,notebook,plotly,sensitivity,shap]==0.6.1->interpret) (0.7.5)\n",
      "Requirement already satisfied: prompt-toolkit!=3.0.37,<3.1.0,>=3.0.30 in c:\\users\\gebruiker\\anaconda3\\lib\\site-packages (from ipython>=5.5.0->interpret-core[dash,debug,linear,notebook,plotly,sensitivity,shap]==0.6.1->interpret) (3.0.36)\n",
      "Requirement already satisfied: pygments>=2.4.0 in c:\\users\\gebruiker\\anaconda3\\lib\\site-packages (from ipython>=5.5.0->interpret-core[dash,debug,linear,notebook,plotly,sensitivity,shap]==0.6.1->interpret) (2.15.1)\n",
      "Requirement already satisfied: stack-data in c:\\users\\gebruiker\\anaconda3\\lib\\site-packages (from ipython>=5.5.0->interpret-core[dash,debug,linear,notebook,plotly,sensitivity,shap]==0.6.1->interpret) (0.2.0)\n",
      "Requirement already satisfied: colorama in c:\\users\\gebruiker\\anaconda3\\lib\\site-packages (from ipython>=5.5.0->interpret-core[dash,debug,linear,notebook,plotly,sensitivity,shap]==0.6.1->interpret) (0.4.6)\n",
      "Requirement already satisfied: python-dateutil>=2.8.1 in c:\\users\\gebruiker\\anaconda3\\lib\\site-packages (from pandas>=0.19.2->interpret-core[dash,debug,linear,notebook,plotly,sensitivity,shap]==0.6.1->interpret) (2.8.2)\n",
      "Requirement already satisfied: pytz>=2020.1 in c:\\users\\gebruiker\\anaconda3\\lib\\site-packages (from pandas>=0.19.2->interpret-core[dash,debug,linear,notebook,plotly,sensitivity,shap]==0.6.1->interpret) (2022.7)\n",
      "Requirement already satisfied: tenacity>=6.2.0 in c:\\users\\gebruiker\\anaconda3\\lib\\site-packages (from plotly>=3.8.1->interpret-core[dash,debug,linear,notebook,plotly,sensitivity,shap]==0.6.1->interpret) (8.2.2)\n",
      "Requirement already satisfied: charset-normalizer<4,>=2 in c:\\users\\gebruiker\\anaconda3\\lib\\site-packages (from requests>=2.19.0->interpret-core[dash,debug,linear,notebook,plotly,sensitivity,shap]==0.6.1->interpret) (2.0.4)\n",
      "Requirement already satisfied: idna<4,>=2.5 in c:\\users\\gebruiker\\anaconda3\\lib\\site-packages (from requests>=2.19.0->interpret-core[dash,debug,linear,notebook,plotly,sensitivity,shap]==0.6.1->interpret) (3.4)\n",
      "Requirement already satisfied: urllib3<3,>=1.21.1 in c:\\users\\gebruiker\\anaconda3\\lib\\site-packages (from requests>=2.19.0->interpret-core[dash,debug,linear,notebook,plotly,sensitivity,shap]==0.6.1->interpret) (1.26.16)\n",
      "Requirement already satisfied: certifi>=2017.4.17 in c:\\users\\gebruiker\\anaconda3\\lib\\site-packages (from requests>=2.19.0->interpret-core[dash,debug,linear,notebook,plotly,sensitivity,shap]==0.6.1->interpret) (2023.7.22)\n",
      "Requirement already satisfied: matplotlib>=3.5 in c:\\users\\gebruiker\\anaconda3\\lib\\site-packages (from SALib>=1.3.3->interpret-core[dash,debug,linear,notebook,plotly,sensitivity,shap]==0.6.1->interpret) (3.7.1)\n",
      "Collecting multiprocess (from SALib>=1.3.3->interpret-core[dash,debug,linear,notebook,plotly,sensitivity,shap]==0.6.1->interpret)\n",
      "  Obtaining dependency information for multiprocess from https://files.pythonhosted.org/packages/50/15/b56e50e8debaf439f44befec5b2af11db85f6e0f344c3113ae0be0593a91/multiprocess-0.70.16-py311-none-any.whl.metadata\n",
      "  Downloading multiprocess-0.70.16-py311-none-any.whl.metadata (7.2 kB)\n",
      "Collecting pandas>=0.19.2 (from interpret-core[dash,debug,linear,notebook,plotly,sensitivity,shap]==0.6.1->interpret)\n",
      "  Obtaining dependency information for pandas>=0.19.2 from https://files.pythonhosted.org/packages/ab/63/966db1321a0ad55df1d1fe51505d2cdae191b84c907974873817b0a6e849/pandas-2.2.2-cp311-cp311-win_amd64.whl.metadata\n",
      "  Downloading pandas-2.2.2-cp311-cp311-win_amd64.whl.metadata (19 kB)\n",
      "Collecting tzdata>=2022.7 (from pandas>=0.19.2->interpret-core[dash,debug,linear,notebook,plotly,sensitivity,shap]==0.6.1->interpret)\n",
      "  Obtaining dependency information for tzdata>=2022.7 from https://files.pythonhosted.org/packages/65/58/f9c9e6be752e9fcb8b6a0ee9fb87e6e7a1f6bcab2cdc73f02bb7ba91ada0/tzdata-2024.1-py2.py3-none-any.whl.metadata\n",
      "  Downloading tzdata-2024.1-py2.py3-none-any.whl.metadata (1.4 kB)\n",
      "Requirement already satisfied: threadpoolctl>=2.0.0 in c:\\users\\gebruiker\\anaconda3\\lib\\site-packages (from scikit-learn>=0.18.1->interpret-core[dash,debug,linear,notebook,plotly,sensitivity,shap]==0.6.1->interpret) (2.2.0)\n",
      "Requirement already satisfied: tqdm>=4.27.0 in c:\\users\\gebruiker\\anaconda3\\lib\\site-packages (from shap>=0.28.5->interpret-core[dash,debug,linear,notebook,plotly,sensitivity,shap]==0.6.1->interpret) (4.65.0)\n",
      "Collecting slicer==0.0.8 (from shap>=0.28.5->interpret-core[dash,debug,linear,notebook,plotly,sensitivity,shap]==0.6.1->interpret)\n",
      "  Obtaining dependency information for slicer==0.0.8 from https://files.pythonhosted.org/packages/63/81/9ef641ff4e12cbcca30e54e72fb0951a2ba195d0cda0ba4100e532d929db/slicer-0.0.8-py3-none-any.whl.metadata\n",
      "  Downloading slicer-0.0.8-py3-none-any.whl.metadata (4.0 kB)\n",
      "Requirement already satisfied: numba in c:\\users\\gebruiker\\anaconda3\\lib\\site-packages (from shap>=0.28.5->interpret-core[dash,debug,linear,notebook,plotly,sensitivity,shap]==0.6.1->interpret) (0.57.0)\n",
      "Requirement already satisfied: cloudpickle in c:\\users\\gebruiker\\anaconda3\\lib\\site-packages (from shap>=0.28.5->interpret-core[dash,debug,linear,notebook,plotly,sensitivity,shap]==0.6.1->interpret) (2.2.1)\n",
      "Requirement already satisfied: pycparser in c:\\users\\gebruiker\\anaconda3\\lib\\site-packages (from cffi>=1.12.2->gevent>=1.3.6->interpret-core[dash,debug,linear,notebook,plotly,sensitivity,shap]==0.6.1->interpret) (2.21)\n",
      "Requirement already satisfied: Jinja2>=3.0 in c:\\users\\gebruiker\\anaconda3\\lib\\site-packages (from Flask<3.1,>=1.0.4->dash>=1.0.0->interpret-core[dash,debug,linear,notebook,plotly,sensitivity,shap]==0.6.1->interpret) (3.1.2)\n",
      "Requirement already satisfied: itsdangerous>=2.0 in c:\\users\\gebruiker\\anaconda3\\lib\\site-packages (from Flask<3.1,>=1.0.4->dash>=1.0.0->interpret-core[dash,debug,linear,notebook,plotly,sensitivity,shap]==0.6.1->interpret) (2.0.1)\n",
      "Requirement already satisfied: click>=8.0 in c:\\users\\gebruiker\\anaconda3\\lib\\site-packages (from Flask<3.1,>=1.0.4->dash>=1.0.0->interpret-core[dash,debug,linear,notebook,plotly,sensitivity,shap]==0.6.1->interpret) (8.0.4)\n",
      "Requirement already satisfied: parso<0.9.0,>=0.8.0 in c:\\users\\gebruiker\\anaconda3\\lib\\site-packages (from jedi>=0.16->ipython>=5.5.0->interpret-core[dash,debug,linear,notebook,plotly,sensitivity,shap]==0.6.1->interpret) (0.8.3)\n",
      "Requirement already satisfied: entrypoints in c:\\users\\gebruiker\\anaconda3\\lib\\site-packages (from jupyter-client>=6.1.12->ipykernel>=4.10.0->interpret-core[dash,debug,linear,notebook,plotly,sensitivity,shap]==0.6.1->interpret) (0.4)\n",
      "Requirement already satisfied: jupyter-core>=4.9.2 in c:\\users\\gebruiker\\anaconda3\\lib\\site-packages (from jupyter-client>=6.1.12->ipykernel>=4.10.0->interpret-core[dash,debug,linear,notebook,plotly,sensitivity,shap]==0.6.1->interpret) (5.3.0)\n",
      "Requirement already satisfied: contourpy>=1.0.1 in c:\\users\\gebruiker\\anaconda3\\lib\\site-packages (from matplotlib>=3.5->SALib>=1.3.3->interpret-core[dash,debug,linear,notebook,plotly,sensitivity,shap]==0.6.1->interpret) (1.0.5)\n",
      "Requirement already satisfied: cycler>=0.10 in c:\\users\\gebruiker\\anaconda3\\lib\\site-packages (from matplotlib>=3.5->SALib>=1.3.3->interpret-core[dash,debug,linear,notebook,plotly,sensitivity,shap]==0.6.1->interpret) (0.11.0)\n",
      "Requirement already satisfied: fonttools>=4.22.0 in c:\\users\\gebruiker\\anaconda3\\lib\\site-packages (from matplotlib>=3.5->SALib>=1.3.3->interpret-core[dash,debug,linear,notebook,plotly,sensitivity,shap]==0.6.1->interpret) (4.25.0)\n",
      "Requirement already satisfied: kiwisolver>=1.0.1 in c:\\users\\gebruiker\\anaconda3\\lib\\site-packages (from matplotlib>=3.5->SALib>=1.3.3->interpret-core[dash,debug,linear,notebook,plotly,sensitivity,shap]==0.6.1->interpret) (1.4.4)\n",
      "Requirement already satisfied: pillow>=6.2.0 in c:\\users\\gebruiker\\anaconda3\\lib\\site-packages (from matplotlib>=3.5->SALib>=1.3.3->interpret-core[dash,debug,linear,notebook,plotly,sensitivity,shap]==0.6.1->interpret) (9.4.0)\n",
      "Requirement already satisfied: pyparsing>=2.3.1 in c:\\users\\gebruiker\\anaconda3\\lib\\site-packages (from matplotlib>=3.5->SALib>=1.3.3->interpret-core[dash,debug,linear,notebook,plotly,sensitivity,shap]==0.6.1->interpret) (3.0.9)\n",
      "Requirement already satisfied: wcwidth in c:\\users\\gebruiker\\anaconda3\\lib\\site-packages (from prompt-toolkit!=3.0.37,<3.1.0,>=3.0.30->ipython>=5.5.0->interpret-core[dash,debug,linear,notebook,plotly,sensitivity,shap]==0.6.1->interpret) (0.2.5)\n",
      "Requirement already satisfied: six>=1.5 in c:\\users\\gebruiker\\anaconda3\\lib\\site-packages (from python-dateutil>=2.8.1->pandas>=0.19.2->interpret-core[dash,debug,linear,notebook,plotly,sensitivity,shap]==0.6.1->interpret) (1.16.0)\n",
      "Requirement already satisfied: MarkupSafe>=2.1.1 in c:\\users\\gebruiker\\anaconda3\\lib\\site-packages (from Werkzeug<3.1->dash>=1.0.0->interpret-core[dash,debug,linear,notebook,plotly,sensitivity,shap]==0.6.1->interpret) (2.1.1)\n",
      "Requirement already satisfied: zipp>=0.5 in c:\\users\\gebruiker\\anaconda3\\lib\\site-packages (from importlib-metadata->dash>=1.0.0->interpret-core[dash,debug,linear,notebook,plotly,sensitivity,shap]==0.6.1->interpret) (3.11.0)\n",
      "Collecting dill>=0.2.5 (from interpret-core[dash,debug,linear,notebook,plotly,sensitivity,shap]==0.6.1->interpret)\n",
      "  Obtaining dependency information for dill>=0.2.5 from https://files.pythonhosted.org/packages/c9/7a/cef76fd8438a42f96db64ddaa85280485a9c395e7df3db8158cfec1eee34/dill-0.3.8-py3-none-any.whl.metadata\n",
      "  Downloading dill-0.3.8-py3-none-any.whl.metadata (10 kB)\n",
      "Requirement already satisfied: llvmlite<0.41,>=0.40.0dev0 in c:\\users\\gebruiker\\anaconda3\\lib\\site-packages (from numba->shap>=0.28.5->interpret-core[dash,debug,linear,notebook,plotly,sensitivity,shap]==0.6.1->interpret) (0.40.0)\n",
      "Requirement already satisfied: executing in c:\\users\\gebruiker\\anaconda3\\lib\\site-packages (from stack-data->ipython>=5.5.0->interpret-core[dash,debug,linear,notebook,plotly,sensitivity,shap]==0.6.1->interpret) (0.8.3)\n",
      "Requirement already satisfied: asttokens in c:\\users\\gebruiker\\anaconda3\\lib\\site-packages (from stack-data->ipython>=5.5.0->interpret-core[dash,debug,linear,notebook,plotly,sensitivity,shap]==0.6.1->interpret) (2.0.5)\n",
      "Requirement already satisfied: pure-eval in c:\\users\\gebruiker\\anaconda3\\lib\\site-packages (from stack-data->ipython>=5.5.0->interpret-core[dash,debug,linear,notebook,plotly,sensitivity,shap]==0.6.1->interpret) (0.2.2)\n",
      "Requirement already satisfied: platformdirs>=2.5 in c:\\users\\gebruiker\\anaconda3\\lib\\site-packages (from jupyter-core>=4.9.2->jupyter-client>=6.1.12->ipykernel>=4.10.0->interpret-core[dash,debug,linear,notebook,plotly,sensitivity,shap]==0.6.1->interpret) (2.5.2)\n",
      "Requirement already satisfied: pywin32>=300 in c:\\users\\gebruiker\\anaconda3\\lib\\site-packages (from jupyter-core>=4.9.2->jupyter-client>=6.1.12->ipykernel>=4.10.0->interpret-core[dash,debug,linear,notebook,plotly,sensitivity,shap]==0.6.1->interpret) (305.1)\n",
      "Downloading interpret-0.6.1-py3-none-any.whl (1.4 kB)\n",
      "Downloading dash-2.17.0-py3-none-any.whl (7.5 MB)\n",
      "   ---------------------------------------- 0.0/7.5 MB ? eta -:--:--\n",
      "   ----- ---------------------------------- 1.0/7.5 MB 20.3 MB/s eta 0:00:01\n",
      "   ----------- ---------------------------- 2.1/7.5 MB 22.1 MB/s eta 0:00:01\n",
      "   ---------------- ----------------------- 3.1/7.5 MB 25.1 MB/s eta 0:00:01\n",
      "   ---------------------- ----------------- 4.2/7.5 MB 22.5 MB/s eta 0:00:01\n",
      "   ---------------------------- ----------- 5.3/7.5 MB 24.0 MB/s eta 0:00:01\n",
      "   ---------------------------------- ----- 6.4/7.5 MB 22.8 MB/s eta 0:00:01\n",
      "   ---------------------------------------  7.5/7.5 MB 24.0 MB/s eta 0:00:01\n",
      "   ---------------------------------------- 7.5/7.5 MB 20.8 MB/s eta 0:00:00\n",
      "Downloading dash_core_components-2.0.0-py3-none-any.whl (3.8 kB)\n",
      "Downloading dash_html_components-2.0.0-py3-none-any.whl (4.1 kB)\n",
      "Downloading dash_table-5.0.0-py3-none-any.whl (3.9 kB)\n",
      "Downloading dash_cytoscape-1.0.0-py3-none-any.whl (4.0 MB)\n",
      "   ---------------------------------------- 0.0/4.0 MB ? eta -:--:--\n",
      "   ----------- ---------------------------- 1.2/4.0 MB 36.5 MB/s eta 0:00:01\n",
      "   ---------------------- ----------------- 2.2/4.0 MB 23.5 MB/s eta 0:00:01\n",
      "   ------------------------------------ --- 3.6/4.0 MB 25.7 MB/s eta 0:00:01\n",
      "   ---------------------------------------- 4.0/4.0 MB 23.2 MB/s eta 0:00:00\n",
      "Downloading gevent-24.2.1-cp311-cp311-win_amd64.whl (1.5 MB)\n",
      "   ---------------------------------------- 0.0/1.5 MB ? eta -:--:--\n",
      "   ------------------------------ --------- 1.2/1.5 MB 37.7 MB/s eta 0:00:01\n",
      "   ---------------------------------------- 1.5/1.5 MB 19.4 MB/s eta 0:00:00\n",
      "Downloading salib-1.5.0-py3-none-any.whl (778 kB)\n",
      "   ---------------------------------------- 0.0/778.8 kB ? eta -:--:--\n",
      "   --------------------------------------- 778.8/778.8 kB 24.8 MB/s eta 0:00:00\n",
      "Downloading pandas-2.2.2-cp311-cp311-win_amd64.whl (11.6 MB)\n",
      "   ---------------------------------------- 0.0/11.6 MB ? eta -:--:--\n",
      "   -- ------------------------------------- 0.8/11.6 MB 25.6 MB/s eta 0:00:01\n",
      "   ------- -------------------------------- 2.1/11.6 MB 26.7 MB/s eta 0:00:01\n",
      "   ----------- ---------------------------- 3.3/11.6 MB 26.1 MB/s eta 0:00:01\n",
      "   -------------- ------------------------- 4.3/11.6 MB 27.4 MB/s eta 0:00:01\n",
      "   ------------------ --------------------- 5.5/11.6 MB 26.8 MB/s eta 0:00:01\n",
      "   --------------------- ------------------ 6.3/11.6 MB 25.3 MB/s eta 0:00:01\n",
      "   ------------------------- -------------- 7.4/11.6 MB 24.9 MB/s eta 0:00:01\n",
      "   ---------------------------- ----------- 8.4/11.6 MB 25.5 MB/s eta 0:00:01\n",
      "   ------------------------------- -------- 9.3/11.6 MB 24.7 MB/s eta 0:00:01\n",
      "   ----------------------------------- ---- 10.3/11.6 MB 24.2 MB/s eta 0:00:01\n",
      "   ---------------------------------------  11.6/11.6 MB 24.2 MB/s eta 0:00:01\n",
      "   ---------------------------------------  11.6/11.6 MB 24.2 MB/s eta 0:00:01\n",
      "   ---------------------------------------- 11.6/11.6 MB 21.1 MB/s eta 0:00:00\n",
      "Downloading shap-0.45.1-cp311-cp311-win_amd64.whl (455 kB)\n",
      "   ---------------------------------------- 0.0/455.5 kB ? eta -:--:--\n",
      "   --------------------------------------- 455.5/455.5 kB 29.7 MB/s eta 0:00:00\n",
      "Downloading slicer-0.0.8-py3-none-any.whl (15 kB)\n",
      "Downloading interpret_core-0.6.1-py3-none-any.whl (13.2 MB)\n",
      "   ---------------------------------------- 0.0/13.2 MB ? eta -:--:--\n",
      "   --- ------------------------------------ 1.1/13.2 MB 22.4 MB/s eta 0:00:01\n",
      "   ------ --------------------------------- 2.2/13.2 MB 27.9 MB/s eta 0:00:01\n",
      "   ---------- ----------------------------- 3.3/13.2 MB 23.5 MB/s eta 0:00:01\n",
      "   ------------ --------------------------- 4.1/13.2 MB 21.8 MB/s eta 0:00:01\n",
      "   ----------------- ---------------------- 5.7/13.2 MB 24.2 MB/s eta 0:00:01\n",
      "   --------------------- ------------------ 7.0/13.2 MB 24.9 MB/s eta 0:00:01\n",
      "   ------------------------ --------------- 8.0/13.2 MB 24.3 MB/s eta 0:00:01\n",
      "   --------------------------- ------------ 9.1/13.2 MB 24.1 MB/s eta 0:00:01\n",
      "   ------------------------------ --------- 10.1/13.2 MB 23.9 MB/s eta 0:00:01\n",
      "   --------------------------------- ------ 11.1/13.2 MB 24.2 MB/s eta 0:00:01\n",
      "   ------------------------------------ --- 12.2/13.2 MB 23.4 MB/s eta 0:00:01\n",
      "   ---------------------------------------  13.2/13.2 MB 22.6 MB/s eta 0:00:01\n",
      "   ---------------------------------------  13.2/13.2 MB 23.4 MB/s eta 0:00:01\n",
      "   ---------------------------------------- 13.2/13.2 MB 19.8 MB/s eta 0:00:00\n",
      "Downloading greenlet-3.0.3-cp311-cp311-win_amd64.whl (292 kB)\n",
      "   ---------------------------------------- 0.0/292.8 kB ? eta -:--:--\n",
      "   --------------------------------------- 292.8/292.8 kB 17.7 MB/s eta 0:00:00\n",
      "Downloading tzdata-2024.1-py2.py3-none-any.whl (345 kB)\n",
      "   ---------------------------------------- 0.0/345.4 kB ? eta -:--:--\n",
      "   --------------------------------------  337.9/345.4 kB 21.8 MB/s eta 0:00:01\n",
      "   --------------------------------------  337.9/345.4 kB 21.8 MB/s eta 0:00:01\n",
      "   --------------------------------------  337.9/345.4 kB 21.8 MB/s eta 0:00:01\n",
      "   ---------------------------------------- 345.4/345.4 kB 2.4 MB/s eta 0:00:00\n",
      "Downloading multiprocess-0.70.16-py311-none-any.whl (143 kB)\n",
      "   ---------------------------------------- 0.0/143.5 kB ? eta -:--:--\n",
      "   ---------------------------------------- 143.5/143.5 kB 8.9 MB/s eta 0:00:00\n",
      "Downloading dill-0.3.8-py3-none-any.whl (116 kB)\n",
      "   ---------------------------------------- 0.0/116.3 kB ? eta -:--:--\n",
      "   ---------------------------------------- 116.3/116.3 kB ? eta 0:00:00\n",
      "Downloading retrying-1.3.4-py3-none-any.whl (11 kB)\n",
      "Downloading zope.event-5.0-py3-none-any.whl (6.8 kB)\n",
      "Installing collected packages: dash-table, dash-html-components, dash-core-components, zope.event, tzdata, slicer, retrying, greenlet, dill, pandas, multiprocess, gevent, shap, SALib, interpret-core, dash, dash-cytoscape, interpret\n",
      "  Attempting uninstall: greenlet\n",
      "    Found existing installation: greenlet 2.0.1\n",
      "    Uninstalling greenlet-2.0.1:\n",
      "      Successfully uninstalled greenlet-2.0.1\n",
      "  Attempting uninstall: dill\n",
      "    Found existing installation: dill 0.3.6\n",
      "    Uninstalling dill-0.3.6:\n",
      "      Successfully uninstalled dill-0.3.6\n",
      "  Attempting uninstall: pandas\n",
      "    Found existing installation: pandas 1.5.3\n",
      "    Uninstalling pandas-1.5.3:\n",
      "      Successfully uninstalled pandas-1.5.3\n"
     ]
    },
    {
     "name": "stderr",
     "output_type": "stream",
     "text": [
      "ERROR: Could not install packages due to an OSError: [WinError 5] Toegang geweigerd: 'C:\\\\Users\\\\gebruiker\\\\anaconda3\\\\Lib\\\\site-packages\\\\~andas\\\\_libs\\\\algos.cp311-win_amd64.pyd'\n",
      "Consider using the `--user` option or check the permissions.\n",
      "\n"
     ]
    },
    {
     "name": "stdout",
     "output_type": "stream",
     "text": [
      "Requirement already satisfied: scikit-learn in c:\\users\\gebruiker\\anaconda3\\lib\\site-packages (1.3.0)\n",
      "Collecting scikit-learn\n",
      "  Obtaining dependency information for scikit-learn from https://files.pythonhosted.org/packages/79/3d/02d5d3ed359498fec3abdf65407d3c07e3b8765af17464969055aaec5171/scikit_learn-1.4.2-cp311-cp311-win_amd64.whl.metadata\n",
      "  Downloading scikit_learn-1.4.2-cp311-cp311-win_amd64.whl.metadata (11 kB)\n",
      "Requirement already satisfied: numpy>=1.19.5 in c:\\users\\gebruiker\\anaconda3\\lib\\site-packages (from scikit-learn) (1.24.3)\n",
      "Requirement already satisfied: scipy>=1.6.0 in c:\\users\\gebruiker\\anaconda3\\lib\\site-packages (from scikit-learn) (1.10.1)\n",
      "Requirement already satisfied: joblib>=1.2.0 in c:\\users\\gebruiker\\anaconda3\\lib\\site-packages (from scikit-learn) (1.2.0)\n",
      "Requirement already satisfied: threadpoolctl>=2.0.0 in c:\\users\\gebruiker\\anaconda3\\lib\\site-packages (from scikit-learn) (2.2.0)\n",
      "Downloading scikit_learn-1.4.2-cp311-cp311-win_amd64.whl (10.6 MB)\n",
      "   ---------------------------------------- 0.0/10.6 MB ? eta -:--:--\n",
      "   - -------------------------------------- 0.3/10.6 MB 6.1 MB/s eta 0:00:02\n",
      "   --- ------------------------------------ 0.8/10.6 MB 10.0 MB/s eta 0:00:01\n",
      "   ---- ----------------------------------- 1.3/10.6 MB 9.3 MB/s eta 0:00:01\n",
      "   ----- ---------------------------------- 1.5/10.6 MB 7.8 MB/s eta 0:00:02\n",
      "   ------ --------------------------------- 1.7/10.6 MB 7.8 MB/s eta 0:00:02\n",
      "   -------- ------------------------------- 2.2/10.6 MB 8.4 MB/s eta 0:00:01\n",
      "   ---------- ----------------------------- 2.7/10.6 MB 8.1 MB/s eta 0:00:01\n",
      "   ---------- ----------------------------- 2.9/10.6 MB 8.3 MB/s eta 0:00:01\n",
      "   ------------ --------------------------- 3.4/10.6 MB 8.3 MB/s eta 0:00:01\n",
      "   -------------- ------------------------- 3.9/10.6 MB 8.4 MB/s eta 0:00:01\n",
      "   ---------------- ----------------------- 4.3/10.6 MB 8.0 MB/s eta 0:00:01\n",
      "   -------------------- ------------------- 5.3/10.6 MB 9.5 MB/s eta 0:00:01\n",
      "   ------------------------ --------------- 6.4/10.6 MB 10.5 MB/s eta 0:00:01\n",
      "   ------------------------- -------------- 6.8/10.6 MB 10.8 MB/s eta 0:00:01\n",
      "   ---------------------------- ----------- 7.5/10.6 MB 10.9 MB/s eta 0:00:01\n",
      "   ------------------------------ --------- 8.1/10.6 MB 10.8 MB/s eta 0:00:01\n",
      "   ----------------------------------- ---- 9.3/10.6 MB 11.7 MB/s eta 0:00:01\n",
      "   ---------------------------------------  10.4/10.6 MB 12.6 MB/s eta 0:00:01\n",
      "   ---------------------------------------  10.5/10.6 MB 12.6 MB/s eta 0:00:01\n",
      "   ---------------------------------------- 10.6/10.6 MB 11.7 MB/s eta 0:00:00\n",
      "Installing collected packages: scikit-learn\n",
      "  Attempting uninstall: scikit-learn\n",
      "    Found existing installation: scikit-learn 1.3.0\n",
      "    Uninstalling scikit-learn-1.3.0:\n",
      "      Successfully uninstalled scikit-learn-1.3.0\n",
      "Successfully installed scikit-learn-1.4.2\n"
     ]
    }
   ],
   "source": [
    "# Installing packages\n",
    "!pip install graphviz\n",
    "!pip install matplotlib pandas statsmodels openpyxl\n",
    "!pip install interpret\n",
    "!pip install scikit-learn --upgrade"
   ]
  },
  {
   "cell_type": "markdown",
   "metadata": {
    "id": "HeSC0_WEpY0k"
   },
   "source": [
    "### Read the data\n",
    "We are going to use the ChaLearn LAP-FI (First Impressions) Dataset. This dataset contains 10.000 data points, which correspond to videos collected from YouTube and annotated via Amazon Mechanical Turk for the BIG-5 personality impressions: openness, extraversion, conscientiousness, neuroticism, agreeableness.\n",
    "\n",
    "These five personality impression scores will be used as features to predict the outcome variable: a job interview invitation.\n",
    "\n",
    "For a detailed description, see the [paper of the dataset](https://ieeexplore.ieee.org/abstract/document/7966041?casa_token=1Y03H5ykCqsAAAAA:VLhCcjAgByJ2hTdKhulmIUiXIVepEJfFyB7HM0XVts7bN8Gi8wMsiTT0qZ--I_kq8wiUHIpPN7es).\n",
    "\n",
    "\n",
    "1.   If you use Google Colab, upload 'all_df.csv' (you can find this file on blackboard) through the upload button in the Files tab.\n",
    "  - Copy the path of the file;\n",
    "  - Run the cell below with your path. This will ask you for permission to access your Google Drive files and then you can access the data.\n",
    "2.   If you are running this notebook at your own machine (jupyter notebook), locate the 'all_df.csv' file in the same folder this notebook exists. Then you can run the second cell below.\n",
    "\n",
    "   \n",
    "\n"
   ]
  },
  {
   "cell_type": "code",
   "execution_count": null,
   "metadata": {
    "id": "okPuwNvww9F-"
   },
   "outputs": [],
   "source": [
    "# Run this cell only if you use Google Colab\n",
    "from google.colab import drive\n",
    "drive.mount('/content/gdrive')\n",
    "\n",
    "# Make sure you uploaded all_df.csv to your Google Drive and change the path\n",
    "# to the directory it is located in (usually in content/gdrive/MyDrive/...)\n",
    "%cd  '/content/gdrive/MyDrive/HCML/Explainability'"
   ]
  },
  {
   "cell_type": "code",
   "execution_count": 23,
   "metadata": {
    "id": "fleSmPrE7UMT"
   },
   "outputs": [
    {
     "name": "stdout",
     "output_type": "stream",
     "text": [
      "Data loaded\n"
     ]
    }
   ],
   "source": [
    "# Run this cell (both when working locally or with Google Colab)\n",
    "import pandas as pd\n",
    "\n",
    "data = pd.read_csv(\"all_df.csv\")\n",
    "print(\"Data loaded\")"
   ]
  },
  {
   "cell_type": "markdown",
   "metadata": {
    "id": "PQpW5C3Sg9YA"
   },
   "source": [
    "### Loading and preprocessing the data\n",
    "There are 6000, 2000 and 2000 examples for training, validation/development and test set respectively. In the data this is indicated by the feature `split`.\n",
    "\n",
    "The training set is used to train models, the validation/development set to optimize the models hyper-parameters, and the test set to evaluate the trained model."
   ]
  },
  {
   "cell_type": "code",
   "execution_count": 24,
   "metadata": {
    "id": "JycjPmn_7p41"
   },
   "outputs": [
    {
     "data": {
      "text/plain": [
       "(      extraversion  neuroticism  agreeableness  conscientiousness  openness\n",
       " 0         0.523364     0.552083       0.626374           0.601942  0.488889\n",
       " 1         0.345794     0.375000       0.472527           0.582524  0.366667\n",
       " 2         0.252336     0.291667       0.406593           0.485437  0.511111\n",
       " 3         0.457944     0.489583       0.505495           0.398058  0.377778\n",
       " 4         0.607477     0.489583       0.406593           0.621359  0.622222\n",
       " ...            ...          ...            ...                ...       ...\n",
       " 5995      0.523364     0.479167       0.626374           0.621359  0.544444\n",
       " 5996      0.728972     0.760417       0.582418           0.524272  0.822222\n",
       " 5997      0.700935     0.770833       0.747253           0.699029  0.788889\n",
       " 5998      0.317757     0.531250       0.582418           0.679612  0.588889\n",
       " 5999      0.401869     0.500000       0.461538           0.543689  0.588889\n",
       " \n",
       " [6000 rows x 5 columns],\n",
       " 0       0.504673\n",
       " 1       0.457944\n",
       " 2       0.373832\n",
       " 3       0.457944\n",
       " 4       0.570093\n",
       "           ...   \n",
       " 5995    0.588785\n",
       " 5996    0.616822\n",
       " 5997    0.691589\n",
       " 5998    0.616822\n",
       " 5999    0.429907\n",
       " Name: interview, Length: 6000, dtype: float64,\n",
       "       extraversion  neuroticism  agreeableness  conscientiousness  openness\n",
       " 6000      0.644860     0.593750       0.615385           0.640777  0.555556\n",
       " 6001      0.439252     0.520833       0.417582           0.572816  0.411111\n",
       " 6002      0.457944     0.312500       0.428571           0.398058  0.555556\n",
       " 6003      0.364486     0.572917       0.527473           0.553398  0.322222\n",
       " 6004      0.345794     0.468750       0.516484           0.417476  0.477778\n",
       " ...            ...          ...            ...                ...       ...\n",
       " 7995      0.570093     0.614583       0.494505           0.689320  0.577778\n",
       " 7996      0.542056     0.541667       0.549451           0.669903  0.666667\n",
       " 7997      0.551402     0.593750       0.560440           0.572816  0.644444\n",
       " 7998      0.514019     0.552083       0.461538           0.572816  0.733333\n",
       " 7999      0.560748     0.635417       0.725275           0.621359  0.666667\n",
       " \n",
       " [2000 rows x 5 columns],\n",
       " 6000    0.616822\n",
       " 6001    0.439252\n",
       " 6002    0.373832\n",
       " 6003    0.523364\n",
       " 6004    0.383178\n",
       "           ...   \n",
       " 7995    0.626168\n",
       " 7996    0.579439\n",
       " 7997    0.504673\n",
       " 7998    0.551402\n",
       " 7999    0.635514\n",
       " Name: interview, Length: 2000, dtype: float64,\n",
       "       extraversion  neuroticism  agreeableness  conscientiousness  openness\n",
       " 8000      0.485981     0.645833       0.681319           0.669903  0.822222\n",
       " 8001      0.616822     0.593750       0.692308           0.514563  0.655556\n",
       " 8002      0.467290     0.625000       0.560440           0.524272  0.522222\n",
       " 8003      0.411215     0.458333       0.714286           0.660194  0.400000\n",
       " 8004      0.317757     0.437500       0.384615           0.524272  0.411111\n",
       " ...            ...          ...            ...                ...       ...\n",
       " 9995      0.289720     0.312500       0.208791           0.135922  0.300000\n",
       " 9996      0.719626     0.781250       0.670330           0.572816  0.722222\n",
       " 9997      0.355140     0.395833       0.472527           0.446602  0.677778\n",
       " 9998      0.467290     0.645833       0.527473           0.669903  0.622222\n",
       " 9999      0.654206     0.635417       0.813187           0.728155  0.588889\n",
       " \n",
       " [2000 rows x 5 columns],\n",
       " 8000    0.626168\n",
       " 8001    0.570093\n",
       " 8002    0.514019\n",
       " 8003    0.570093\n",
       " 8004    0.448598\n",
       "           ...   \n",
       " 9995    0.177570\n",
       " 9996    0.728972\n",
       " 9997    0.411215\n",
       " 9998    0.560748\n",
       " 9999    0.654206\n",
       " Name: interview, Length: 2000, dtype: float64)"
      ]
     },
     "execution_count": 24,
     "metadata": {},
     "output_type": "execute_result"
    }
   ],
   "source": [
    "import numpy as np\n",
    "\n",
    "# global variables\n",
    "FEATURE_NAMES = ['extraversion', 'neuroticism', 'agreeableness', 'conscientiousness', 'openness']\n",
    "LABEL_NAME = 'interview'\n",
    "\n",
    "def load_data():\n",
    "    def split_feature_label(data_set):\n",
    "        features = data_set[FEATURE_NAMES]\n",
    "        labels = data_set[LABEL_NAME]\n",
    "        return features, labels\n",
    "\n",
    "    train_set = data[data['split'] == 'training']\n",
    "    val_set = data[data['split'] == 'validation']\n",
    "    test_set = data[data['split'] == 'test']\n",
    "\n",
    "    train_features, train_labels = split_feature_label(train_set)\n",
    "    val_features, val_labels = split_feature_label(val_set)\n",
    "    test_features, test_labels = split_feature_label(test_set)\n",
    "\n",
    "    return train_features, train_labels, val_features, \\\n",
    "        val_labels, test_features, test_labels\n",
    "\n",
    "# Load the data with the function above\n",
    "(train_features, train_labels, dev_features, \\\n",
    "        dev_labels, test_features, test_labels) = load_data()\n",
    "\n",
    "(train_features, train_labels, dev_features, \\\n",
    "        dev_labels, test_features, test_labels)"
   ]
  },
  {
   "cell_type": "markdown",
   "metadata": {
    "id": "VbkcGeJT6stA"
   },
   "source": [
    "# Part 1. Different models"
   ]
  },
  {
   "cell_type": "markdown",
   "metadata": {
    "id": "QabF2JOdMTI4"
   },
   "source": [
    "### **1. Linear Regression**\n",
    "\n",
    "Train a linear regression model (we recommend the `statsmodels.api` package with the ordinary least squares model `sm`).\n",
    "\n",
    "Hint: to get a linear regression model, you should manually add a constant variable (usually called bias or intercept - that has a fixed value of 1 for all instances) to the data, either by adding it column yourself or by using the `add_constant()` function.\n",
    "\n"
   ]
  },
  {
   "cell_type": "markdown",
   "metadata": {
    "id": "fg6Tc7uD6jL_"
   },
   "source": [
    "**Q1.1**\n",
    "\n",
    "Provide the $R^2$ (goodness of fit) statistic and for each feature (+ the bias variable), the following in tabular format:\n",
    "* Weight estimate (coef)\n",
    "* SE (standard error of estimates)\n",
    "* T-statistic\n",
    "\n",
    "Hint: You can print the summary of the model using `.summary()` to do this. This gives an extensive overview of the performance of a model."
   ]
  },
  {
   "cell_type": "code",
   "execution_count": 31,
   "metadata": {
    "id": "B91BszFhMStw"
   },
   "outputs": [
    {
     "data": {
      "text/html": [
       "<table class=\"simpletable\">\n",
       "<caption>OLS Regression Results</caption>\n",
       "<tr>\n",
       "  <th>Dep. Variable:</th>        <td>interview</td>    <th>  R-squared:         </th>  <td>   0.914</td> \n",
       "</tr>\n",
       "<tr>\n",
       "  <th>Model:</th>                   <td>OLS</td>       <th>  Adj. R-squared:    </th>  <td>   0.914</td> \n",
       "</tr>\n",
       "<tr>\n",
       "  <th>Method:</th>             <td>Least Squares</td>  <th>  F-statistic:       </th>  <td>1.278e+04</td>\n",
       "</tr>\n",
       "<tr>\n",
       "  <th>Date:</th>             <td>Thu, 16 May 2024</td> <th>  Prob (F-statistic):</th>   <td>  0.00</td>  \n",
       "</tr>\n",
       "<tr>\n",
       "  <th>Time:</th>                 <td>15:43:00</td>     <th>  Log-Likelihood:    </th>  <td>  10232.</td> \n",
       "</tr>\n",
       "<tr>\n",
       "  <th>No. Observations:</th>      <td>  6000</td>      <th>  AIC:               </th> <td>-2.045e+04</td>\n",
       "</tr>\n",
       "<tr>\n",
       "  <th>Df Residuals:</th>          <td>  5994</td>      <th>  BIC:               </th> <td>-2.041e+04</td>\n",
       "</tr>\n",
       "<tr>\n",
       "  <th>Df Model:</th>              <td>     5</td>      <th>                     </th>      <td> </td>    \n",
       "</tr>\n",
       "<tr>\n",
       "  <th>Covariance Type:</th>      <td>nonrobust</td>    <th>                     </th>      <td> </td>    \n",
       "</tr>\n",
       "</table>\n",
       "<table class=\"simpletable\">\n",
       "<tr>\n",
       "          <td></td>             <th>coef</th>     <th>std err</th>      <th>t</th>      <th>P>|t|</th>  <th>[0.025</th>    <th>0.975]</th>  \n",
       "</tr>\n",
       "<tr>\n",
       "  <th>const</th>             <td>   -0.0727</td> <td>    0.003</td> <td>  -28.052</td> <td> 0.000</td> <td>   -0.078</td> <td>   -0.068</td>\n",
       "</tr>\n",
       "<tr>\n",
       "  <th>extraversion</th>      <td>    0.1891</td> <td>    0.007</td> <td>   26.954</td> <td> 0.000</td> <td>    0.175</td> <td>    0.203</td>\n",
       "</tr>\n",
       "<tr>\n",
       "  <th>neuroticism</th>       <td>    0.2397</td> <td>    0.008</td> <td>   31.013</td> <td> 0.000</td> <td>    0.225</td> <td>    0.255</td>\n",
       "</tr>\n",
       "<tr>\n",
       "  <th>agreeableness</th>     <td>    0.2573</td> <td>    0.007</td> <td>   38.337</td> <td> 0.000</td> <td>    0.244</td> <td>    0.270</td>\n",
       "</tr>\n",
       "<tr>\n",
       "  <th>conscientiousness</th> <td>    0.3293</td> <td>    0.005</td> <td>   59.926</td> <td> 0.000</td> <td>    0.318</td> <td>    0.340</td>\n",
       "</tr>\n",
       "<tr>\n",
       "  <th>openness</th>          <td>    0.0857</td> <td>    0.007</td> <td>   12.753</td> <td> 0.000</td> <td>    0.073</td> <td>    0.099</td>\n",
       "</tr>\n",
       "</table>\n",
       "<table class=\"simpletable\">\n",
       "<tr>\n",
       "  <th>Omnibus:</th>       <td> 7.437</td> <th>  Durbin-Watson:     </th> <td>   2.017</td>\n",
       "</tr>\n",
       "<tr>\n",
       "  <th>Prob(Omnibus):</th> <td> 0.024</td> <th>  Jarque-Bera (JB):  </th> <td>   7.444</td>\n",
       "</tr>\n",
       "<tr>\n",
       "  <th>Skew:</th>          <td>-0.086</td> <th>  Prob(JB):          </th> <td>  0.0242</td>\n",
       "</tr>\n",
       "<tr>\n",
       "  <th>Kurtosis:</th>      <td> 3.000</td> <th>  Cond. No.          </th> <td>    24.5</td>\n",
       "</tr>\n",
       "</table><br/><br/>Notes:<br/>[1] Standard Errors assume that the covariance matrix of the errors is correctly specified."
      ],
      "text/latex": [
       "\\begin{center}\n",
       "\\begin{tabular}{lclc}\n",
       "\\toprule\n",
       "\\textbf{Dep. Variable:}    &    interview     & \\textbf{  R-squared:         } &     0.914   \\\\\n",
       "\\textbf{Model:}            &       OLS        & \\textbf{  Adj. R-squared:    } &     0.914   \\\\\n",
       "\\textbf{Method:}           &  Least Squares   & \\textbf{  F-statistic:       } & 1.278e+04   \\\\\n",
       "\\textbf{Date:}             & Thu, 16 May 2024 & \\textbf{  Prob (F-statistic):} &     0.00    \\\\\n",
       "\\textbf{Time:}             &     15:43:00     & \\textbf{  Log-Likelihood:    } &    10232.   \\\\\n",
       "\\textbf{No. Observations:} &        6000      & \\textbf{  AIC:               } & -2.045e+04  \\\\\n",
       "\\textbf{Df Residuals:}     &        5994      & \\textbf{  BIC:               } & -2.041e+04  \\\\\n",
       "\\textbf{Df Model:}         &           5      & \\textbf{                     } &             \\\\\n",
       "\\textbf{Covariance Type:}  &    nonrobust     & \\textbf{                     } &             \\\\\n",
       "\\bottomrule\n",
       "\\end{tabular}\n",
       "\\begin{tabular}{lcccccc}\n",
       "                           & \\textbf{coef} & \\textbf{std err} & \\textbf{t} & \\textbf{P$> |$t$|$} & \\textbf{[0.025} & \\textbf{0.975]}  \\\\\n",
       "\\midrule\n",
       "\\textbf{const}             &      -0.0727  &        0.003     &   -28.052  &         0.000        &       -0.078    &       -0.068     \\\\\n",
       "\\textbf{extraversion}      &       0.1891  &        0.007     &    26.954  &         0.000        &        0.175    &        0.203     \\\\\n",
       "\\textbf{neuroticism}       &       0.2397  &        0.008     &    31.013  &         0.000        &        0.225    &        0.255     \\\\\n",
       "\\textbf{agreeableness}     &       0.2573  &        0.007     &    38.337  &         0.000        &        0.244    &        0.270     \\\\\n",
       "\\textbf{conscientiousness} &       0.3293  &        0.005     &    59.926  &         0.000        &        0.318    &        0.340     \\\\\n",
       "\\textbf{openness}          &       0.0857  &        0.007     &    12.753  &         0.000        &        0.073    &        0.099     \\\\\n",
       "\\bottomrule\n",
       "\\end{tabular}\n",
       "\\begin{tabular}{lclc}\n",
       "\\textbf{Omnibus:}       &  7.437 & \\textbf{  Durbin-Watson:     } &    2.017  \\\\\n",
       "\\textbf{Prob(Omnibus):} &  0.024 & \\textbf{  Jarque-Bera (JB):  } &    7.444  \\\\\n",
       "\\textbf{Skew:}          & -0.086 & \\textbf{  Prob(JB):          } &   0.0242  \\\\\n",
       "\\textbf{Kurtosis:}      &  3.000 & \\textbf{  Cond. No.          } &     24.5  \\\\\n",
       "\\bottomrule\n",
       "\\end{tabular}\n",
       "%\\caption{OLS Regression Results}\n",
       "\\end{center}\n",
       "\n",
       "Notes: \\newline\n",
       " [1] Standard Errors assume that the covariance matrix of the errors is correctly specified."
      ],
      "text/plain": [
       "<class 'statsmodels.iolib.summary.Summary'>\n",
       "\"\"\"\n",
       "                            OLS Regression Results                            \n",
       "==============================================================================\n",
       "Dep. Variable:              interview   R-squared:                       0.914\n",
       "Model:                            OLS   Adj. R-squared:                  0.914\n",
       "Method:                 Least Squares   F-statistic:                 1.278e+04\n",
       "Date:                Thu, 16 May 2024   Prob (F-statistic):               0.00\n",
       "Time:                        15:43:00   Log-Likelihood:                 10232.\n",
       "No. Observations:                6000   AIC:                        -2.045e+04\n",
       "Df Residuals:                    5994   BIC:                        -2.041e+04\n",
       "Df Model:                           5                                         \n",
       "Covariance Type:            nonrobust                                         \n",
       "=====================================================================================\n",
       "                        coef    std err          t      P>|t|      [0.025      0.975]\n",
       "-------------------------------------------------------------------------------------\n",
       "const                -0.0727      0.003    -28.052      0.000      -0.078      -0.068\n",
       "extraversion          0.1891      0.007     26.954      0.000       0.175       0.203\n",
       "neuroticism           0.2397      0.008     31.013      0.000       0.225       0.255\n",
       "agreeableness         0.2573      0.007     38.337      0.000       0.244       0.270\n",
       "conscientiousness     0.3293      0.005     59.926      0.000       0.318       0.340\n",
       "openness              0.0857      0.007     12.753      0.000       0.073       0.099\n",
       "==============================================================================\n",
       "Omnibus:                        7.437   Durbin-Watson:                   2.017\n",
       "Prob(Omnibus):                  0.024   Jarque-Bera (JB):                7.444\n",
       "Skew:                          -0.086   Prob(JB):                       0.0242\n",
       "Kurtosis:                       3.000   Cond. No.                         24.5\n",
       "==============================================================================\n",
       "\n",
       "Notes:\n",
       "[1] Standard Errors assume that the covariance matrix of the errors is correctly specified.\n",
       "\"\"\""
      ]
     },
     "execution_count": 31,
     "metadata": {},
     "output_type": "execute_result"
    }
   ],
   "source": [
    "# We recommend the statsmodels package\n",
    "import statsmodels.api as sm\n",
    "\n",
    "# Your code to add a bias/intercept variable\n",
    "train_features = sm.add_constant(train_features)\n",
    "train_features\n",
    "# Train the model and print out the summary\n",
    "smfOLS = sm.OLS(train_labels, train_features).fit()\n",
    "smfOLS.summary()\n",
    "\n"
   ]
  },
  {
   "cell_type": "markdown",
   "metadata": {
    "id": "lQSPWuVzNBmX"
   },
   "source": [
    "**Q1.2**\n",
    "\n",
    "Which three features are the most important?\n",
    "\n",
    "> Answer: conscientiousness, agreeableness, neuroticism"
   ]
  },
  {
   "cell_type": "markdown",
   "metadata": {
    "id": "6miEyz_f66Ei"
   },
   "source": [
    "**Q1.3**\n",
    "\n",
    "How does the predicted 'interview' score change with an 0.1 increase of the 'conscientiousness' feature given that all other feature values remain the same?\n",
    "\n",
    "> Answer: Considering the coefficient of 'conscientiousness', the results show that an increase of 1 results in an increase of the interview score of 0.33. Similarly, an increase of 0.1 increases the interview score with 0.033\n"
   ]
  },
  {
   "cell_type": "markdown",
   "metadata": {
    "id": "7AlVsA0ZhWbw"
   },
   "source": [
    "**Q1.4**\n",
    "\n",
    "Show bar graph illustrations of the feature effects for the first two validation set instances.\n",
    "\n",
    "> Answer:"
   ]
  },
  {
   "cell_type": "code",
   "execution_count": 77,
   "metadata": {
    "id": "abB-9YswhkMo"
   },
   "outputs": [
    {
     "data": {
      "text/plain": [
       "<Figure size 1000x600 with 0 Axes>"
      ]
     },
     "metadata": {},
     "output_type": "display_data"
    },
    {
     "data": {
      "image/png": "[encoded data removed]",
      "text/plain": [
       "<Figure size 640x480 with 1 Axes>"
      ]
     },
     "metadata": {},
     "output_type": "display_data"
    }
   ],
   "source": [
    "# Compute the Feature Effects\n",
    "import matplotlib.pyplot as plt\n",
    "two_val = dev_features.iloc[:2]\n",
    "two_val = sm.add_constant(two_val)  # Add a constant term for the intercept\n",
    "coef = smfOLS.params\n",
    "\n",
    "# Predict the target values for the first two instances\n",
    "\n",
    "feature_effect = two_val * coef \n",
    "df = pd.DataFrame(feature_effect)\n",
    "df_transposed = df.T\n",
    "\n",
    "# Plot the bar plot for each feature\n",
    "plt.figure(figsize=(10, 6))\n",
    "df_transposed.plot(kind='bar', stacked=False)\n",
    "plt.title('Feature Effects')\n",
    "plt.xlabel('Features')\n",
    "plt.ylabel('Effect')\n",
    "plt.xticks(rotation=45)\n",
    "plt.tight_layout()\n",
    "plt.show()"
   ]
  },
  {
   "cell_type": "code",
   "execution_count": null,
   "metadata": {},
   "outputs": [],
   "source": []
  },
  {
   "cell_type": "markdown",
   "metadata": {
    "id": "5tj6Pri4HBeO"
   },
   "source": [
    "**Q1.5**\n",
    "\n",
    "Reflection: why would training a regression tree not work well for this dataset in terms of model interpretability? And under what conditions could the dataset be used with a decision tree to yield an interpretable model?\n",
    "\n",
    "> Answer:"
   ]
  },
  {
   "cell_type": "markdown",
   "metadata": {
    "id": "k7r09mMfeo2k"
   },
   "source": [
    "### **2. Explainable Boosting Model**\n",
    "Train an Explainable Boosting Machine (EBM) with [InterpretML](https://interpret.ml/docs/ebm.html). EBM is a Generalized Additive Model (GAM) that is highly intelligible and explainable.\n",
    "\n",
    "The `interpret` package provides both global and local explanation functions: `explain_global()` and `explain_local()` can be used to interpret a ML model."
   ]
  },
  {
   "cell_type": "markdown",
   "metadata": {
    "id": "YUxfqAHb7ZgX"
   },
   "source": [
    "**Q2.1**\n",
    "\n",
    "Visualize/provide global (model-wise) feature importances for EBM as a table or figure."
   ]
  },
  {
   "cell_type": "code",
   "execution_count": null,
   "metadata": {
    "id": "jbqYT0Wh34k-"
   },
   "outputs": [],
   "source": [
    "from interpret.glassbox import ExplainableBoostingRegressor\n",
    "from interpret import show\n",
    "\n",
    "# EBM Global feature importances"
   ]
  },
  {
   "cell_type": "markdown",
   "metadata": {
    "id": "9cJ1uiHf34_l"
   },
   "source": [
    "**Q2.2**\n",
    "\n",
    "What are the most important two features in EBM? Are they the same as in the linear model?\n",
    "\n",
    "> Answer:"
   ]
  },
  {
   "cell_type": "markdown",
   "metadata": {
    "id": "oUxRg7Xr7hr1"
   },
   "source": [
    "Now, to have an idea how EBM treats the input and generates the explanation, visualize EBM local explanations on a synthetic instance generated from training set mean feature vector as input and training set mean response as output.\n",
    "\n"
   ]
  },
  {
   "cell_type": "code",
   "execution_count": null,
   "metadata": {
    "id": "BieO0LiSceUd"
   },
   "outputs": [],
   "source": [
    "# EBM Local explanation for training set mean vector with corresponding training set mean label\n",
    "train_mean_x = pd.DataFrame(train_features.mean(axis=0)).T\n",
    "train_mean_y = pd.DataFrame([train_labels.mean()])\n",
    "\n",
    "print(train_mean_x)\n",
    "print(train_mean_y)"
   ]
  },
  {
   "cell_type": "markdown",
   "metadata": {
    "id": "5TMeydtDsB35"
   },
   "source": [
    "**Q2.3**\n",
    "\n",
    "Now, visualize local (instance-wise) feature importances for the first two instances of the development set."
   ]
  },
  {
   "cell_type": "code",
   "execution_count": null,
   "metadata": {
    "id": "ce00C36ilxxC"
   },
   "outputs": [],
   "source": [
    "# EBM local explanations for the first two development set instances"
   ]
  },
  {
   "cell_type": "markdown",
   "metadata": {
    "id": "bTFmCfAn5xQK"
   },
   "source": [
    "**Q2.4**\n",
    "\n",
    "Let's compare these feature importances with the feature effects in question 1.4.\n",
    "\n",
    "* Are the feature contribution orderings the same in both models for the two instances?\n",
    "> Answer:\n",
    "\n",
    "* For the second example's explanation, why do you think the contribution of *conscientiousness* is positive, while the contribution of *agreeableness* is negative? (Hint: consider the feature values relative to the training set mean values you calculated / processed in the former subquestion.)\n",
    "> Answer:"
   ]
  },
  {
   "cell_type": "markdown",
   "metadata": {
    "id": "_k7dAwTIfbsc"
   },
   "source": [
    "# Part 2. Model-Agnostic Methods for Interpreting/Explaining NN"
   ]
  },
  {
   "cell_type": "markdown",
   "metadata": {
    "id": "5EbowFSZAZj6"
   },
   "source": [
    "### **3. Training Neural Networks**\n",
    "Train a one-layer Neural Network (multi-layer perceptron (MLP) Regressor, but with one layer) with the following settings:\n",
    "\n",
    "- Activation function: ReLU\n",
    "- Size of the hidden layer: 50 neurons\n",
    "- Recommended optimizer/solver: Adam\n",
    "\n",
    "For a tutorial see [Tutorial](https://scikit-learn.org/stable/modules/neural_networks_supervised.html).\n",
    "\n",
    "**Q3.1**\n",
    "\n",
    "Apply the trained neural network model to the development set to find the best hyperparameters (such as learning rate). Report the Root Mean Square Error (RMSE) performance measure.\n",
    "\n",
    "**Note.** A development set RMSE below 0.045 is reasonable, then you can apply the corresponding model on the test set in the next question."
   ]
  },
  {
   "cell_type": "code",
   "execution_count": null,
   "metadata": {
    "id": "qQjg_qtCf_WD"
   },
   "outputs": [],
   "source": [
    "from sklearn.neural_network import MLPRegressor\n",
    "\n",
    "# Train the MLPRegressor and show RMSE on development set"
   ]
  },
  {
   "cell_type": "markdown",
   "metadata": {
    "id": "rQySPj5Nt_sO"
   },
   "source": [
    "**Q3.2**\n",
    "\n",
    "Now use the best settings to report the Root Mean Square Error (RMSE) performance measure on the test set.\n",
    "\n",
    "It is possible to use the combination of the training and development sets to retrain the model and report the test set performance. You can also use the model that was trained on the training set only."
   ]
  },
  {
   "cell_type": "code",
   "execution_count": null,
   "metadata": {
    "id": "YxuJUUUnPgGb"
   },
   "outputs": [],
   "source": [
    "# RMSE on test set"
   ]
  },
  {
   "cell_type": "markdown",
   "metadata": {
    "id": "huX2fiH1-Qir"
   },
   "source": [
    "Now we can analyze factors that influence the predictions. Both Partial Dependence Plots (PDP) and Individual Conditional Expectation (ICE) plots can be used to visualize and analyze interaction between the target response and a set of input features of interest.\n",
    "\n",
    "See the [Documentation](https://scikit-learn.org/stable/modules/partial_dependence.html) on how to use PDPs and ICEs.\n",
    "\n",
    "**Q3.3**\n",
    "\n",
    "Generate univariate and bivariate PDPs for the `conscientiousness` and `agreeableness` features with the neural network you trained above."
   ]
  },
  {
   "cell_type": "code",
   "execution_count": null,
   "metadata": {
    "id": "xqVV2yHdpSdl"
   },
   "outputs": [],
   "source": [
    "from sklearn.inspection import PartialDependenceDisplay\n",
    "\n",
    "# PDPs"
   ]
  },
  {
   "cell_type": "markdown",
   "metadata": {
    "id": "M584ROYo1czo"
   },
   "source": [
    "**Q3.4**\n",
    "\n",
    "What do these plots show?\n",
    "\n",
    "> Answer:\n",
    "\n",
    "**Q3.5**\n",
    "\n",
    "Now generate ICE plots for each feature."
   ]
  },
  {
   "cell_type": "code",
   "execution_count": null,
   "metadata": {
    "id": "ig_iwDVqQBdY"
   },
   "outputs": [],
   "source": [
    "# ICEs"
   ]
  },
  {
   "cell_type": "markdown",
   "metadata": {
    "id": "Y75fIVlY2abm"
   },
   "source": [
    "**Q3.6**\n",
    "\n",
    "What can you conclude from ICE plots above?\n",
    "\n",
    "> Answer:"
   ]
  },
  {
   "cell_type": "markdown",
   "metadata": {
    "id": "r0NLZmwHv5tx"
   },
   "source": [
    "**Q3.7**\n",
    "\n",
    "Implement the PDF (Partial Dependence Function) for univariate analysis of the trained NN model.\n"
   ]
  },
  {
   "cell_type": "code",
   "execution_count": null,
   "metadata": {
    "id": "nyRSmdVD9LF8"
   },
   "outputs": [],
   "source": [
    "def PDF(X, model, feature):\n",
    "  \"\"\"\n",
    "  Input   Dataset 'X', Model 'model', feature_name 'feature'\n",
    "  Output  x_values: independent variable values\n",
    "          f_values: corresponding output per x value\n",
    "  \"\"\"\n",
    "  # Note: uncomment the lines below and complete the right hand side (where you see '..' to set them to suitable values, respective explanations are provided for each variable\n",
    "  # num_samples = ..  # set the number of samples/steps to slice the range of the continuous feature, e.g., 100.\n",
    "  # min_val = ..      # minimum value of the given feature\n",
    "  # max_val = ..      # maximum value of the given feature\n",
    "  # step_size = ..    # see the algorithm in corresponsing lecture slides to calculate the step size as a function of the above variables\n",
    "  # x_values = ..     # x_values at which we will calculate the partial function of the given feature\n",
    "  # f_values = ..     # the calculated partial function values corresponding to x_values\n",
    "\n",
    "  # for k in range(num_samples - 1):\n",
    "    # Change part of the data according to the formula of PDF algorithm\n",
    "    # Let the model predict and calculate the f_value for this k\n",
    "\n",
    "  # return x_values, f_values"
   ]
  },
  {
   "cell_type": "markdown",
   "metadata": {
    "id": "-erhkuKc9Lbb"
   },
   "source": [
    "**Q3.8**\n",
    "\n",
    "Calculate and visualize the feature importances obtained by your PDF algorithm with a bar graph. How do we calculate the feature importance given the x_values and y_values of the PDF algorithm?"
   ]
  },
  {
   "cell_type": "code",
   "execution_count": null,
   "metadata": {
    "id": "wGZc06rb-ksR"
   },
   "outputs": [],
   "source": [
    "# First calculate the x_values and f_values for each feature"
   ]
  },
  {
   "cell_type": "code",
   "execution_count": null,
   "metadata": {
    "id": "RwjNZFql9QtZ"
   },
   "outputs": [],
   "source": [
    "from scipy.stats import linregress\n",
    "\n",
    "# Fit a linear model per feature, what is the output of this linear model?"
   ]
  },
  {
   "cell_type": "markdown",
   "metadata": {
    "id": "4I5Z1dRl86BP"
   },
   "source": [
    "**Q3.9**\n",
    "\n",
    "What are the two most important features obtained by the PDF algorithm for the MLP model? How do these two features compare to the top two features from the Linear Model and the EBM?\n",
    "\n",
    "> Answer:\n"
   ]
  },
  {
   "cell_type": "markdown",
   "metadata": {
    "id": "T8slEz838w8_"
   },
   "source": [
    "### **4. Permutation Feature Importance**\n",
    "\n",
    "**Q4.1**\n",
    "\n",
    "Implement the permutation feature importance algorithm using RMSE as the error function. No existing libraries (barring the RMSE from `sklearn` and a function for random sampling / permutation) are allowed to be used, you will implement it yourself with the framework below."
   ]
  },
  {
   "cell_type": "code",
   "execution_count": null,
   "metadata": {
    "id": "S7xUqEYnv4wA"
   },
   "outputs": [],
   "source": [
    "def PFI(X, labels, model, base_rmse):\n",
    "  results = []\n",
    "\n",
    "  for feature in X:\n",
    "    # Create a copy of X_test\n",
    "    # Scramble the values of the given predictor\n",
    "    # Calculate the new RMSE\n",
    "    # Append the increase in MSE to the list of results\n",
    "\n",
    "  # Put the results into a pandas dataframe and rank the predictors by score\n",
    "\n",
    "  # return results_df"
   ]
  },
  {
   "cell_type": "markdown",
   "metadata": {
    "id": "BHemT4b73rwY"
   },
   "source": [
    "**Q4.2**\n",
    "\n",
    "Visualize the feature importances obtained by your PFI algorithm with a bar graph."
   ]
  },
  {
   "cell_type": "code",
   "execution_count": null,
   "metadata": {
    "id": "gxZ9pPBoVsdi"
   },
   "outputs": [],
   "source": [
    "# Bar graph of feature importances"
   ]
  },
  {
   "cell_type": "markdown",
   "metadata": {
    "id": "qmvAN-wT336H"
   },
   "source": [
    "**Q4.3**\n",
    "\n",
    "What are the two most important features obtained by the permutation feature importance algorithm for the MLP model? How do these two features compare to the top two features from the Linear Model and the EBM?\n",
    "\n",
    "> Answer:"
   ]
  },
  {
   "cell_type": "markdown",
   "metadata": {
    "id": "Oq4CuON4vY2y"
   },
   "source": [
    "**Q4.4**\n",
    "\n",
    "Explain two disadvantages of the PFI method.\n",
    "\n",
    "> Answer:"
   ]
  }
 ],
 "metadata": {
  "colab": {
   "provenance": []
  },
  "kernelspec": {
   "display_name": "Python 3 (ipykernel)",
   "language": "python",
   "name": "python3"
  },
  "language_info": {
   "codemirror_mode": {
    "name": "ipython",
    "version": 3
   },
   "file_extension": ".py",
   "mimetype": "text/x-python",
   "name": "python",
   "nbconvert_exporter": "python",
   "pygments_lexer": "ipython3",
   "version": "3.11.4"
  }
 },
 "nbformat": 4,
 "nbformat_minor": 1
}
